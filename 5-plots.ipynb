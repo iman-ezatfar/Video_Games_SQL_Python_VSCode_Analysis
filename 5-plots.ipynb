{
 "cells": [
  {
   "cell_type": "code",
   "execution_count": 2,
   "metadata": {},
   "outputs": [
    {
     "name": "stdout",
     "output_type": "stream",
     "text": [
      "Requirement already satisfied: pyodbc in c:\\users\\imane\\appdata\\local\\programs\\python\\python313\\lib\\site-packages (5.2.0)\n",
      "Requirement already satisfied: pandas in c:\\users\\imane\\appdata\\local\\programs\\python\\python313\\lib\\site-packages (2.2.3)\n",
      "Requirement already satisfied: matplotlib in c:\\users\\imane\\appdata\\local\\programs\\python\\python313\\lib\\site-packages (3.10.1)\n",
      "Requirement already satisfied: seaborn in c:\\users\\imane\\appdata\\local\\programs\\python\\python313\\lib\\site-packages (0.13.2)\n",
      "Requirement already satisfied: numpy>=1.26.0 in c:\\users\\imane\\appdata\\local\\programs\\python\\python313\\lib\\site-packages (from pandas) (2.2.4)\n",
      "Requirement already satisfied: python-dateutil>=2.8.2 in c:\\users\\imane\\appdata\\local\\programs\\python\\python313\\lib\\site-packages (from pandas) (2.9.0.post0)\n",
      "Requirement already satisfied: pytz>=2020.1 in c:\\users\\imane\\appdata\\local\\programs\\python\\python313\\lib\\site-packages (from pandas) (2025.1)\n",
      "Requirement already satisfied: tzdata>=2022.7 in c:\\users\\imane\\appdata\\local\\programs\\python\\python313\\lib\\site-packages (from pandas) (2025.2)\n",
      "Requirement already satisfied: contourpy>=1.0.1 in c:\\users\\imane\\appdata\\local\\programs\\python\\python313\\lib\\site-packages (from matplotlib) (1.3.1)\n",
      "Requirement already satisfied: cycler>=0.10 in c:\\users\\imane\\appdata\\local\\programs\\python\\python313\\lib\\site-packages (from matplotlib) (0.12.1)\n",
      "Requirement already satisfied: fonttools>=4.22.0 in c:\\users\\imane\\appdata\\local\\programs\\python\\python313\\lib\\site-packages (from matplotlib) (4.56.0)\n",
      "Requirement already satisfied: kiwisolver>=1.3.1 in c:\\users\\imane\\appdata\\local\\programs\\python\\python313\\lib\\site-packages (from matplotlib) (1.4.8)\n",
      "Requirement already satisfied: packaging>=20.0 in c:\\users\\imane\\appdata\\local\\programs\\python\\python313\\lib\\site-packages (from matplotlib) (24.2)\n",
      "Requirement already satisfied: pillow>=8 in c:\\users\\imane\\appdata\\local\\programs\\python\\python313\\lib\\site-packages (from matplotlib) (11.1.0)\n",
      "Requirement already satisfied: pyparsing>=2.3.1 in c:\\users\\imane\\appdata\\local\\programs\\python\\python313\\lib\\site-packages (from matplotlib) (3.2.3)\n",
      "Requirement already satisfied: six>=1.5 in c:\\users\\imane\\appdata\\local\\programs\\python\\python313\\lib\\site-packages (from python-dateutil>=2.8.2->pandas) (1.17.0)\n",
      "Note: you may need to restart the kernel to use updated packages.\n"
     ]
    }
   ],
   "source": [
    "pip install pyodbc pandas matplotlib seaborn"
   ]
  },
  {
   "cell_type": "code",
   "execution_count": 3,
   "metadata": {},
   "outputs": [],
   "source": [
    "import pyodbc\n",
    "import pandas as pd\n",
    "import warnings\n",
    "warnings.filterwarnings(\"ignore\")\n",
    "\n",
    "conn_str = (\n",
    "    \"DRIVER={ODBC Driver 18 for SQL Server};\"\n",
    "    \"SERVER=iman;\"\n",
    "    \"DATABASE=Video_games;\"\n",
    "    \"Trusted_Connection=yes;\"\n",
    "    \"TrustServerCertificate=yes;\"  # Trust the server's SSL certificate\n",
    "\n",
    ")\n",
    "\n",
    "connection = pyodbc.connect(conn_str)"
   ]
  },
  {
   "cell_type": "code",
   "execution_count": 4,
   "metadata": {},
   "outputs": [
    {
     "name": "stdout",
     "output_type": "stream",
     "text": [
      "   GameID                           Title Platform  \\\n",
      "0       1       Deus Ex: Human Revolution      PS3   \n",
      "1       2                  God of War III      PS3   \n",
      "2       3  RESIDENT EVIL CODE: Veronica X      PS3   \n",
      "3       5                 Castle Crashers      PS3   \n",
      "4       6                   Demon's Souls      PS3   \n",
      "5       7              FINAL FANTASY XIII      PS3   \n",
      "6       8                     MEGA MAN 10      PS3   \n",
      "7       9               SUPER STARDUST HD      PS3   \n",
      "8      10         Bionic Commando Rearmed      PS3   \n",
      "9      11                  Critter Crunch      PS3   \n",
      "\n",
      "                          Developers                    Genres Release_Date  \n",
      "0                     eidos montreal                   shooter   2011-08-23  \n",
      "1                Santa Monica Studio              Hack & Slash   2010-03-16  \n",
      "2               Capcom Entertainment           Survival Horror   2017-05-10  \n",
      "3                       The Behemoth                       RPG   2010-08-31  \n",
      "4  Bluepoint Games, SIE Japan Studio  Action-RPG, Role Playing   2020-11-12  \n",
      "5                        Square Enix                       RPG   2010-03-09  \n",
      "6                               LTD.                 Adventure   2010-03-11  \n",
      "7                        Housemarque             \"Shoot em up\"   2007-06-28  \n",
      "8                               grin                 Adventure   2008-08-14  \n",
      "9                     capybara games                     Indie   2009-10-08  \n"
     ]
    }
   ],
   "source": [
    "preview_query = \"SELECT TOP 10 * FROM [dbo].[games]\"\n",
    "df_preview = pd.read_sql(preview_query, connection)\n",
    "print(df_preview)\n"
   ]
  },
  {
   "cell_type": "code",
   "execution_count": 13,
   "metadata": {},
   "outputs": [],
   "source": [
    "# Define the query string\n",
    "query = \"\"\"\n",
    "SELECT\n",
    "    g.genres, pl.Nickname, SUM(CAST(p.price AS DECIMAL(10,2))) AS Total_Price\n",
    "FROM\n",
    "    [dbo].[games] g\n",
    "JOIN\n",
    "    price p ON g.GameID = p.GameID\n",
    "JOIN\n",
    "    purchased_games pu ON g.GameID = pu.GameID\n",
    "JOIN\n",
    "    players pl ON pu.PlayerID = pl.PlayerID\n",
    "GROUP BY\n",
    "    g.Genres, pl.Nickname\n",
    "ORDER BY\n",
    "    SUM(CAST(p.price AS DECIMAL(10,2))) DESC\n",
    "\"\"\"\n",
    "\n"
   ]
  },
  {
   "cell_type": "code",
   "execution_count": 14,
   "metadata": {},
   "outputs": [],
   "source": [
    "df= pd.read_sql(query, connection)"
   ]
  },
  {
   "cell_type": "code",
   "execution_count": 15,
   "metadata": {},
   "outputs": [
    {
     "data": {
      "text/html": [
       "<div>\n",
       "<style scoped>\n",
       "    .dataframe tbody tr th:only-of-type {\n",
       "        vertical-align: middle;\n",
       "    }\n",
       "\n",
       "    .dataframe tbody tr th {\n",
       "        vertical-align: top;\n",
       "    }\n",
       "\n",
       "    .dataframe thead th {\n",
       "        text-align: right;\n",
       "    }\n",
       "</style>\n",
       "<table border=\"1\" class=\"dataframe\">\n",
       "  <thead>\n",
       "    <tr style=\"text-align: right;\">\n",
       "      <th></th>\n",
       "      <th>genres</th>\n",
       "      <th>Nickname</th>\n",
       "      <th>Total_Price</th>\n",
       "    </tr>\n",
       "  </thead>\n",
       "  <tbody>\n",
       "    <tr>\n",
       "      <th>0</th>\n",
       "      <td>Visual Novel</td>\n",
       "      <td>Unsocial_Shadow</td>\n",
       "      <td>11720.63</td>\n",
       "    </tr>\n",
       "    <tr>\n",
       "      <th>1</th>\n",
       "      <td>Adventure</td>\n",
       "      <td>diabolvs_pl</td>\n",
       "      <td>11363.63</td>\n",
       "    </tr>\n",
       "    <tr>\n",
       "      <th>2</th>\n",
       "      <td>Adventure</td>\n",
       "      <td>BwhoUwannaB</td>\n",
       "      <td>9874.34</td>\n",
       "    </tr>\n",
       "    <tr>\n",
       "      <th>3</th>\n",
       "      <td>Adventure</td>\n",
       "      <td>fograid</td>\n",
       "      <td>9607.52</td>\n",
       "    </tr>\n",
       "    <tr>\n",
       "      <th>4</th>\n",
       "      <td>Adventure</td>\n",
       "      <td>Koenig_Arne</td>\n",
       "      <td>9482.68</td>\n",
       "    </tr>\n",
       "    <tr>\n",
       "      <th>...</th>\n",
       "      <td>...</td>\n",
       "      <td>...</td>\n",
       "      <td>...</td>\n",
       "    </tr>\n",
       "    <tr>\n",
       "      <th>2626193</th>\n",
       "      <td>Visual Novel</td>\n",
       "      <td>YoliZarote</td>\n",
       "      <td>0.98</td>\n",
       "    </tr>\n",
       "    <tr>\n",
       "      <th>2626194</th>\n",
       "      <td>Third Person Shooter</td>\n",
       "      <td>Yobyoni</td>\n",
       "      <td>0.98</td>\n",
       "    </tr>\n",
       "    <tr>\n",
       "      <th>2626195</th>\n",
       "      <td>Puzzle, Platformer</td>\n",
       "      <td>yugioh_mortal</td>\n",
       "      <td>0.98</td>\n",
       "    </tr>\n",
       "    <tr>\n",
       "      <th>2626196</th>\n",
       "      <td>Card &amp; Board</td>\n",
       "      <td>zerokingx</td>\n",
       "      <td>0.98</td>\n",
       "    </tr>\n",
       "    <tr>\n",
       "      <th>2626197</th>\n",
       "      <td>Third Person Shooter</td>\n",
       "      <td>zockertimo99</td>\n",
       "      <td>0.98</td>\n",
       "    </tr>\n",
       "  </tbody>\n",
       "</table>\n",
       "<p>2626198 rows × 3 columns</p>\n",
       "</div>"
      ],
      "text/plain": [
       "                       genres         Nickname  Total_Price\n",
       "0                Visual Novel  Unsocial_Shadow     11720.63\n",
       "1                   Adventure      diabolvs_pl     11363.63\n",
       "2                   Adventure      BwhoUwannaB      9874.34\n",
       "3                   Adventure          fograid      9607.52\n",
       "4                   Adventure      Koenig_Arne      9482.68\n",
       "...                       ...              ...          ...\n",
       "2626193          Visual Novel       YoliZarote         0.98\n",
       "2626194  Third Person Shooter          Yobyoni         0.98\n",
       "2626195    Puzzle, Platformer    yugioh_mortal         0.98\n",
       "2626196          Card & Board        zerokingx         0.98\n",
       "2626197  Third Person Shooter     zockertimo99         0.98\n",
       "\n",
       "[2626198 rows x 3 columns]"
      ]
     },
     "execution_count": 15,
     "metadata": {},
     "output_type": "execute_result"
    }
   ],
   "source": [
    "df"
   ]
  },
  {
   "cell_type": "code",
   "execution_count": 16,
   "metadata": {},
   "outputs": [
    {
     "data": {
      "image/png": "[encoded data removed]",
      "text/plain": [
       "<Figure size 1200x600 with 1 Axes>"
      ]
     },
     "metadata": {},
     "output_type": "display_data"
    }
   ],
   "source": [
    "import matplotlib.pyplot as plt\n",
    "import seaborn as sns\n",
    "\n",
    "df_genre_price = df.groupby('genres', as_index=False)['Total_Price'].sum()\n",
    "df_top_10 = df_genre_price.sort_values(by='Total_Price', ascending=False).head(10)\n",
    "\n",
    "plt.figure(figsize=(12, 6))\n",
    "sns.barplot(x='genres', y='Total_Price', data=df_top_10, palette='viridis')\n",
    "plt.title('Top 10 genres by Total Price')\n",
    "plt.ylabel('Total Price')\n",
    "plt.xlabel('genres')\n",
    "plt.show()"
   ]
  },
  {
   "cell_type": "markdown",
   "metadata": {},
   "source": [
    "Now, we can search for the possibility of existing a relationship\n",
    "between genres and the price.\n",
    "We run ANOVA test, if the p-value is less than 0.05, then there is a relationship and in contrast if the p-value is greater than 0.05, there is NO relationship."
   ]
  },
  {
   "cell_type": "code",
   "execution_count": 18,
   "metadata": {},
   "outputs": [
    {
     "name": "stdout",
     "output_type": "stream",
     "text": [
      "ANOVA test p-value:  0.0\n"
     ]
    }
   ],
   "source": [
    "from scipy.stats import f_oneway\n",
    "\n",
    "genre_group = [df[df['genres'] == g]['Total_Price'] for g in df['genres'].unique()]\n",
    "stat, p_value = f_oneway(*genre_group)\n",
    "\n",
    "print(\"ANOVA test p-value: \", p_value)"
   ]
  },
  {
   "cell_type": "code",
   "execution_count": null,
   "metadata": {},
   "outputs": [],
   "source": []
  }
 ],
 "metadata": {
  "kernelspec": {
   "display_name": "Python 3",
   "language": "python",
   "name": "python3"
  },
  "language_info": {
   "codemirror_mode": {
    "name": "ipython",
    "version": 3
   },
   "file_extension": ".py",
   "mimetype": "text/x-python",
   "name": "python",
   "nbconvert_exporter": "python",
   "pygments_lexer": "ipython3",
   "version": "3.13.2"
  }
 },
 "nbformat": 4,
 "nbformat_minor": 2
}
